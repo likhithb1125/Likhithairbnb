{
  "nbformat": 4,
  "nbformat_minor": 0,
  "metadata": {
    "colab": {
      "private_outputs": true,
      "provenance": [],
      "collapsed_sections": [
        "t27r6nlMphqO",
        "r2jJGEOYphqO",
        "b0JNsNcRphqO",
        "gIfDvo9L0UH2"
      ],
      "include_colab_link": true
    },
    "kernelspec": {
      "name": "python3",
      "display_name": "Python 3"
    },
    "language_info": {
      "name": "python"
    }
  },
  "cells": [
    {
      "cell_type": "markdown",
      "metadata": {
        "id": "view-in-github",
        "colab_type": "text"
      },
      "source": [
        "<a href=\"https://colab.research.google.com/github/likhithb1125/Likhithairbnb/blob/main/LikhithAirbnb_booking.ipynb\" target=\"_parent\"><img src=\"https://colab.research.google.com/assets/colab-badge.svg\" alt=\"Open In Colab\"/></a>"
      ]
    },
    {
      "cell_type": "markdown",
      "source": [
        "# **Project Name**    - **Airbnb Explorer: Mapping the World of Accommodations**\n",
        "\n"
      ],
      "metadata": {
        "id": "vncDsAP0Gaoa"
      }
    },
    {
      "cell_type": "markdown",
      "source": [
        "##### **Project Type**    - EDA\n",
        "##### **Contribution**    - Individual/Likhith B\n",
        "\n"
      ],
      "metadata": {
        "id": "beRrZCGUAJYm"
      }
    },
    {
      "cell_type": "markdown",
      "source": [
        "# **Project Summary -**"
      ],
      "metadata": {
        "id": "FJNUwmbgGyua"
      }
    },
    {
      "cell_type": "markdown",
      "source": [
        "Airbnb has transformed the travel industry, offering a unique and personalized way for guests to experience the world while providing hosts with a platform to share their spaces. With millions of listings worldwide, Airbnb generates a vast amount of data that is invaluable for the company's operations. This dataset, comprising approximately 49,000 observations and 16 columns of data, contains a mix of information about listings, guests, hosts, and booking details. By analyzing this data, we can gain insights into travel trends, guest preferences, host behavior, and performance on the platform. These insights can inform decision-making processes related to security measures, business strategies, marketing initiatives, and the development of new services. Ultimately, exploring and analyzing this data allows us to uncover valuable insights that can enhance the overall Airbnb experience for guests and hosts alike."
      ],
      "metadata": {
        "id": "F6v_1wHtG2nS"
      }
    },
    {
      "cell_type": "markdown",
      "source": [
        "# **GitHub Link -**"
      ],
      "metadata": {
        "id": "w6K7xa23Elo4"
      }
    },
    {
      "cell_type": "markdown",
      "source": [
        "Provide your GitHub Link here."
      ],
      "metadata": {
        "id": "h1o69JH3Eqqn"
      }
    },
    {
      "cell_type": "markdown",
      "source": [
        "# **Problem Statement**\n"
      ],
      "metadata": {
        "id": "yQaldy8SH6Dl"
      }
    },
    {
      "cell_type": "markdown",
      "source": [
        "**Since 2008, guests and hosts have used Airbnb to expand on travelling possibilities and present a more unique, personalised way of experiencing the world. Today, Airbnb became one of a kind service that is used and recognized by the whole world. Data analysis on millions of listings provided through Airbnb is a crucial factor for the company. These millions of listings generate a lot of data - data that can be analysed and used for security, business decisions, understanding of customers' and providers' (hosts) behaviour and performance on the platform, guiding marketing initiatives, implementation of innovative additional services and much more. This dataset has around 49,000 observations in it with 16 columns and it is a mix of categorical and numeric values. Explore and analyse the data to discover key understandings.**"
      ],
      "metadata": {
        "id": "DpeJGUA3kjGy"
      }
    },
    {
      "cell_type": "markdown",
      "source": [
        "#### **Define Your Business Objective?**"
      ],
      "metadata": {
        "id": "PH-0ReGfmX4f"
      }
    },
    {
      "cell_type": "markdown",
      "source": [
        "\n",
        "**The business objective for analyzing the Airbnb dataset is to leverage data-driven insights to optimize various aspects of Airbnb's operations and offerings.This includes:**\n",
        "\n",
        "**1.Enhancing Customer Experience**\n",
        "\n",
        "**2.Empowering Hosts**\n",
        "\n",
        "**3.Driving Business Growth**\n",
        "\n",
        "**4.Ensuring Platform Safety and Trust**\n",
        "\n",
        "**5.Exploring ways to improve Business activties**\n",
        "\n",
        "The objective is to use data analysis to continuously improve the Airbnb experience, foster a thriving community, and drive sustainable growth for the company."
      ],
      "metadata": {
        "id": "PhDvGCAqmjP1"
      }
    },
    {
      "cell_type": "markdown",
      "source": [
        "# **General Guidelines** : -  "
      ],
      "metadata": {
        "id": "mDgbUHAGgjLW"
      }
    },
    {
      "cell_type": "markdown",
      "source": [
        "1.   Well-structured, formatted, and commented code is required.\n",
        "2.   Exception Handling, Production Grade Code & Deployment Ready Code will be a plus. Those students will be awarded some additional credits.\n",
        "     \n",
        "     The additional credits will have advantages over other students during Star Student selection.\n",
        "       \n",
        "             [ Note: - Deployment Ready Code is defined as, the whole .ipynb notebook should be executable in one go\n",
        "                       without a single error logged. ]\n",
        "\n",
        "3.   Each and every logic should have proper comments.\n",
        "4. You may add as many number of charts you want. Make Sure for each and every chart the following format should be answered.\n",
        "        \n",
        "\n",
        "```\n",
        "# Chart visualization code\n",
        "```\n",
        "            \n",
        "\n",
        "*   Why did you pick the specific chart?\n",
        "*   What is/are the insight(s) found from the chart?\n",
        "* Will the gained insights help creating a positive business impact?\n",
        "Are there any insights that lead to negative growth? Justify with specific reason.\n",
        "\n",
        "5. You have to create at least 20 logical & meaningful charts having important insights.\n",
        "\n",
        "\n",
        "[ Hints : - Do the Vizualization in  a structured way while following \"UBM\" Rule.\n",
        "\n",
        "U - Univariate Analysis,\n",
        "\n",
        "B - Bivariate Analysis (Numerical - Categorical, Numerical - Numerical, Categorical - Categorical)\n",
        "\n",
        "M - Multivariate Analysis\n",
        " ]\n",
        "\n",
        "\n",
        "\n"
      ],
      "metadata": {
        "id": "ZrxVaUj-hHfC"
      }
    },
    {
      "cell_type": "markdown",
      "source": [
        "# ***Let's Begin !***"
      ],
      "metadata": {
        "id": "O_i_v8NEhb9l"
      }
    },
    {
      "cell_type": "markdown",
      "source": [
        "## ***1. Know Your Data***"
      ],
      "metadata": {
        "id": "HhfV-JJviCcP"
      }
    },
    {
      "cell_type": "markdown",
      "source": [
        "### Import Libraries"
      ],
      "metadata": {
        "id": "Y3lxredqlCYt"
      }
    },
    {
      "cell_type": "code",
      "source": [
        "# Import Libraries for anylysis of data\n",
        "import pandas as pd\n",
        "import numpy as np\n",
        "import matplotlib.pyplot as plt\n",
        "import seaborn as sns\n",
        "from google.colab import drive\n",
        "import warnings\n",
        "warnings.filterwarnings('ignore')"
      ],
      "metadata": {
        "id": "M8Vqi-pPk-HR"
      },
      "execution_count": null,
      "outputs": []
    },
    {
      "cell_type": "markdown",
      "source": [
        "### Dataset Loading"
      ],
      "metadata": {
        "id": "3RnN4peoiCZX"
      }
    },
    {
      "cell_type": "code",
      "source": [
        "# Load Dataset\n",
        "drive.mount('/content/drive')\n",
        "df = pd.read_csv('/content/drive/MyDrive/Airbnb NYC 2019.csv')"
      ],
      "metadata": {
        "id": "4CkvbW_SlZ_R"
      },
      "execution_count": null,
      "outputs": []
    },
    {
      "cell_type": "markdown",
      "source": [
        "### Dataset First View"
      ],
      "metadata": {
        "id": "x71ZqKXriCWQ"
      }
    },
    {
      "cell_type": "code",
      "source": [
        "# Dataset First Look\n",
        "df.head(1000)# Display the first 1000 rows of the DataFrame"
      ],
      "metadata": {
        "id": "LWNFOSvLl09H"
      },
      "execution_count": null,
      "outputs": []
    },
    {
      "cell_type": "markdown",
      "source": [
        "### Dataset Rows & Columns count"
      ],
      "metadata": {
        "id": "7hBIi_osiCS2"
      }
    },
    {
      "cell_type": "code",
      "source": [
        "# Dataset Rows & Columns count\n",
        "num_rows, num_columns = df.shape\n",
        "\n",
        "# Print the counts\n",
        "print(\"Total Number of rows:\", num_rows)\n",
        "print(\"Total Number of columns:\", num_columns)\n"
      ],
      "metadata": {
        "id": "Kllu7SJgmLij"
      },
      "execution_count": null,
      "outputs": []
    },
    {
      "cell_type": "markdown",
      "source": [
        "### Dataset Information"
      ],
      "metadata": {
        "id": "JlHwYmJAmNHm"
      }
    },
    {
      "cell_type": "code",
      "source": [
        "# Dataset Info\n",
        "df.info() #The df.info() method provides a concise summary of the DataFrame df, including information about the index dtype and column dtypes, non-null values, and memory usage.\n",
        "\n"
      ],
      "metadata": {
        "id": "e9hRXRi6meOf"
      },
      "execution_count": null,
      "outputs": []
    },
    {
      "cell_type": "markdown",
      "source": [
        "#### Duplicate Values"
      ],
      "metadata": {
        "id": "35m5QtbWiB9F"
      }
    },
    {
      "cell_type": "code",
      "source": [
        "# Dataset Duplicate Value Count\n",
        "if df.duplicated().sum() == 0:#The df.duplicated() method returns a boolean series that indicates whether each row in the DataFrame df is a duplicate of a previous row. If a row is a duplicate, the corresponding value in the series is True; otherwise, it is False\n",
        "    print(\"No duplicate values found\")\n",
        "else:\n",
        "    print(\"Duplicate values found\")\n"
      ],
      "metadata": {
        "id": "1sLdpKYkmox0"
      },
      "execution_count": null,
      "outputs": []
    },
    {
      "cell_type": "markdown",
      "source": [
        "#### Missing Values/Null Values"
      ],
      "metadata": {
        "id": "PoPl-ycgm1ru"
      }
    },
    {
      "cell_type": "code",
      "source": [
        "# Missing Values/Null Values Count\n",
        "missing_values_count = df.isnull().sum()#method calculates the number of missing values in each column of the DataFrame df.\n",
        "\n",
        "# Print the count of missing values\n",
        "print(\"Missing Values/Null Values:\")\n",
        "print(missing_values_count)\n"
      ],
      "metadata": {
        "id": "GgHWkxvamxVg"
      },
      "execution_count": null,
      "outputs": []
    },
    {
      "cell_type": "code",
      "source": [
        "# Visualizing the missing values\n",
        "# Create a figure with a specified size\n",
        "plt.figure(figsize=(10, 6))\n",
        "\n",
        "# Create a bar plot using seaborn, where x represents the column names and y represents the count of missing values for each column\n",
        "ax = sns.barplot(x=df.columns, y=df.isnull().sum(), palette='viridis')\n",
        "\n",
        "# Set the title of the plot\n",
        "plt.title('Count of Missing Values in Each Column')\n",
        "\n",
        "# Set the label for the x-axis\n",
        "plt.xlabel('Column')\n",
        "\n",
        "# Set the label for the y-axis\n",
        "plt.ylabel('Count of Missing Values')\n",
        "\n",
        "# Rotate the x-axis labels to ensure readability\n",
        "plt.xticks(rotation=90)\n",
        "\n",
        "# Add value labels on top of each bar\n",
        "for bar in ax.patches:#This line starts a loop that iterates over each bar (patch) in the bar plot (ax).\n",
        "    # Calculate the x-coordinate for placing the text label at the center of the bar\n",
        "    x_coord = bar.get_x() + bar.get_width() / 2  #calculates the x-coordinate where the text label will be placed. It takes into account the x-coordinate of the left edge of the bar (bar.get_x()), adds half of the bar's width (bar.get_width() / 2) to position the label at the center of the bar.\n",
        "    # Retrieve the height of the bar (count of missing values)\n",
        "    height = bar.get_height()\n",
        "    # Convert the height to an integer and format it as a string for display\n",
        "    value_label = f'{int(height)}'\n",
        "    # Add the text label on top of the bar\n",
        "    ax.text(x_coord, height, value_label, ha='center', va='bottom')# specifying  horizontal and vertical alignment\n",
        "\n",
        "# Display the plot\n",
        "\n",
        "\n",
        "plt.figure(figsize=(10, 6))\n",
        "sns.heatmap(df.isnull(), cbar=False)\n",
        "plt.title('Missing Values in Airbnb Dataset')\n",
        "plt.show()\n",
        "\n"
      ],
      "metadata": {
        "id": "3q5wnI3om9sJ"
      },
      "execution_count": null,
      "outputs": []
    },
    {
      "cell_type": "markdown",
      "source": [
        "### What did you know about your dataset?"
      ],
      "metadata": {
        "id": "H0kj-8xxnORC"
      }
    },
    {
      "cell_type": "markdown",
      "source": [
        "Firstly we can come to clear conclusion that data set is free from duplicate values.\n",
        "\n",
        "1. The analysis of the Airbnb dataset reveals that several columns, namely name, host_name, last_review, and reviews_per_month, contain missing values. The treatment of these missing values is crucial .\n",
        "\n",
        "2. In the context of analyzing review data, strategies such as imputation of missing values for last_review and reviews_per_month may be considered.\n",
        "\n",
        "3. Depending on the analysis requirements, rows with missing values could be excluded. The handling of missing values in columns like name and host_name may vary based on the nature of the analysis and the importance of these attributes.\n",
        "\n",
        "4. Therefore, it's essential to approach missing value handling with careful consideration of the analysis context and objectives."
      ],
      "metadata": {
        "id": "gfoNAAC-nUe_"
      }
    },
    {
      "cell_type": "markdown",
      "source": [
        "## ***2. Understanding Your Variables***"
      ],
      "metadata": {
        "id": "nA9Y7ga8ng1Z"
      }
    },
    {
      "cell_type": "code",
      "source": [
        "# Dataset Columns\n",
        "# List all columns in the dataset\n",
        "columns = list(df.columns)\n",
        "print(columns)\n"
      ],
      "metadata": {
        "id": "j7xfkqrt5Ag5"
      },
      "execution_count": null,
      "outputs": []
    },
    {
      "cell_type": "code",
      "source": [
        "# Dataset Describe\n",
        "df.describe()\n",
        "\n",
        "# Select relevant columns for description\n",
        "# relevant_columns = ['price',\t'minimum_nights', 'number_of_reviews', 'reviews_per_month', 'calculated_host_listings_count', 'availability_365', 'latitude']\n",
        "\n",
        "# # Describe the selected columns\n",
        "# df[relevant_columns].describe()\n",
        "\n",
        "\n",
        "\n"
      ],
      "metadata": {
        "id": "DnOaZdaE5Q5t"
      },
      "execution_count": null,
      "outputs": []
    },
    {
      "cell_type": "markdown",
      "source": [
        "### Variables Description"
      ],
      "metadata": {
        "id": "PBTbrJXOngz2"
      }
    },
    {
      "cell_type": "markdown",
      "source": [
        "1. **id**: Unique identifier for each listing.\n",
        "2. **name**: Name of the listing.\n",
        "3. **host_id**: Unique identifier for the host of the listing.\n",
        "4. **host_name**: Name of the host.\n",
        "5. **neighbourhood_group**: Grouping of neighbourhoods.\n",
        "6. **neighbourhood**: Name of the neighbourhood.\n",
        "7. **latitude**: Latitude coordinate of the listing.\n",
        "8. **longitude**: Longitude coordinate of the listing.\n",
        "9. **room_type**: Type of room offered (e.g., Entire home/apt, Private room, Shared room).\n",
        "10. **price**: Price of the listing per night.\n",
        "11. **minimum_nights**: Minimum number of nights required for booking.\n",
        "12. **number_of_reviews**: Number of reviews for the listing.\n",
        "13. **last_review**: Date of the last review.\n",
        "14. **reviews_per_month**: Average number of reviews per month.\n",
        "15. **calculated_host_listings_count**: Number of listings owned by the host.\n",
        "16. **availability_365**: Number of days the listing is available in a year.\n"
      ],
      "metadata": {
        "id": "aJV4KIxSnxay"
      }
    },
    {
      "cell_type": "markdown",
      "source": [
        "### Check Unique Values for each variable."
      ],
      "metadata": {
        "id": "u3PMJOP6ngxN"
      }
    },
    {
      "cell_type": "code",
      "source": [
        "# Check Unique Values for each variable.\n",
        "for i in list(df.columns):\n",
        "  print(\"No. of unique values in \",i,\"is =\",df[i].nunique())\n",
        "\n"
      ],
      "metadata": {
        "id": "zms12Yq5n-jE"
      },
      "execution_count": null,
      "outputs": []
    },
    {
      "cell_type": "markdown",
      "source": [
        "## 3. ***Data Wrangling***"
      ],
      "metadata": {
        "id": "dauF4eBmngu3"
      }
    },
    {
      "cell_type": "markdown",
      "source": [
        "### Data Wrangling Code"
      ],
      "metadata": {
        "id": "bKJF3rekwFvQ"
      }
    },
    {
      "cell_type": "code",
      "source": [
        "# Write your code to make your dataset analysis ready.\n",
        "# Write your code to make your dataset analysis ready.\n",
        "# Create a copy of the current dataset and assigning to df\n",
        "df_copy = df.copy()\n",
        "\n",
        "# Drop rows with missing values in 'name' and 'host_name'\n",
        "df_copy = df_copy.dropna(subset=['name', 'host_name'])\n",
        "\n",
        "# Impute missing values in 'last_review' and 'reviews_per_month' with appropriate values\n",
        "df_copy['last_review'].fillna('No reviews', inplace=True)\n",
        "df_copy['reviews_per_month'].fillna(0, inplace=True)\n",
        "\n",
        "# Replace 'No reviews' with a default date (e.g., 1900-01-01)\n",
        "df_copy['last_review'] = df_copy['last_review'].replace('No reviews', '1900-01-01')\n",
        "\n",
        "# Convert 'last_review' to datetime format\n",
        "df_copy['last_review'] = pd.to_datetime(df_copy['last_review'])\n",
        "\n",
        "# Create a new feature 'total_reviews' by summing 'number_of_reviews' and 'reviews_per_month'\n",
        "df_copy['total_reviews'] = df_copy['number_of_reviews'] + df_copy['reviews_per_month']\n",
        "\n",
        "# Extract year and month from 'last_review'\n",
        "df_copy['last_review_year'] = df_copy['last_review'].dt.year\n",
        "df_copy['last_review_month'] = df_copy['last_review'].dt.month\n",
        "\n",
        "df_copy"
      ],
      "metadata": {
        "id": "wk-9a2fpoLcV"
      },
      "execution_count": null,
      "outputs": []
    },
    {
      "cell_type": "markdown",
      "source": [
        "### What all manipulations have you done and insights you found?"
      ],
      "metadata": {
        "id": "MSa1f5Uengrz"
      }
    },
    {
      "cell_type": "markdown",
      "source": [
        "1. Data Copy: A copy of the original dataset is created and assigned to the variable df_copy to avoid modifying the original dataset.\n",
        "\n",
        "\n",
        "2. Handling Missing Values:Rows with missing values in the 'name' and 'host_name' columns are dropped using dropna() method.\n",
        "\n",
        " a). Missing values in 'last_review' and 'reviews_per_month' columns are imputed with appropriate values.\n",
        "\n",
        " b).'No reviews' is replaced with a default date ('1900-01-01') for 'last_review', and missing values in 'reviews_per_month' are replaced with 0.\n",
        "\n",
        "3. Feature Engineering:\n",
        "\n",
        "  a). A new feature 'total_reviews' is created by summing up 'number_of_reviews' and 'reviews_per_month'.\n",
        "\n",
        "  b).'last_review' column is converted to datetime format using pd.to_datetime() method.\n",
        "   \n",
        "  c). Year and month are extracted from the 'last_review' column and stored in new columns 'last_review_year' and 'last_review_month', respectively.\n",
        "\n",
        "  These manipulations prepare the dataset for further analysis by handling missing values and creating new features for insights extraction."
      ],
      "metadata": {
        "id": "LbyXE7I1olp8"
      }
    },
    {
      "cell_type": "markdown",
      "source": [
        "## ***4. Data Vizualization, Storytelling & Experimenting with charts : Understand the relationships between variables***"
      ],
      "metadata": {
        "id": "GF8Ens_Soomf"
      }
    },
    {
      "cell_type": "markdown",
      "source": [
        "\n",
        "\n",
        "**Line Plot**\n",
        "Matplotlib: The plt.plot() function is used to create line plots. It's useful for visualizing trends over time or across different categories.\n",
        "Seaborn: While Seaborn doesn't have a specific function for line plots, you can use Matplotlib's plt.plot() function alongside Seaborn's styling options.\n",
        "\n",
        "**Scatter Plot:**\n",
        "Matplotlib: Created using the plt.scatter() function, scatter plots are used to visualize the relationship between two continuous variables. Each point represents an observation.\n",
        "Seaborn: Seaborn's sns.scatterplot() function offers additional features like hue, size, and style parameters, allowing for more customization.\n",
        "\n",
        "\n",
        "**Bar Plot:**\n",
        "Matplotlib: Bar plots are generated using the plt.bar() function. They're effective for comparing values across different categories.\n",
        "Seaborn: Seaborn's sns.barplot() function simplifies the creation of bar plots and can also calculate and display confidence intervals.\n",
        "\n",
        "**Histogram:**\n",
        "Matplotlib: Histograms are created using the plt.hist() function. They display the distribution of a single numerical variable and are useful for understanding data distributions.\n",
        "Seaborn: Seaborn's sns.histplot() function provides more flexibility and additional features, such as kernel density estimation and binning options.\n",
        "\n",
        "\n",
        "**Box Plot:**\n",
        "Matplotlib: Box plots can be created with the plt.boxplot() function. They show the distribution of numerical data and highlight key summary statistics like median, quartiles, and outliers.\n",
        "Seaborn: Seaborn's sns.boxplot() function produces box plots with improved aesthetics and supports additional parameters for customization.\n",
        "\n",
        "\n",
        "**Violin Plot:**\n",
        "Matplotlib: Violin plots can be drawn using the plt.violinplot() function. They combine elements of box plots and kernel density estimation to display the distribution of data.\n",
        "Seaborn: Seaborn's sns.violinplot() function offers a simpler interface for creating violin plots and provides options for hue and split violins.\n",
        "\n",
        "**Heatmap:**\n",
        "Matplotlib: Heatmaps can be created with the plt.imshow() function. They're useful for visualizing matrices or 2D data, with colors representing the magnitude of values.\n",
        "Seaborn: Seaborn's sns.heatmap() function is designed specifically for creating heatmaps and includes features like annotation, color mapping, and hierarchical clustering."
      ],
      "metadata": {
        "id": "sO8yD0S4jKHG"
      }
    },
    {
      "cell_type": "markdown",
      "source": [
        "#### Chart - 1"
      ],
      "metadata": {
        "id": "0wOQAZs5pc--"
      }
    },
    {
      "cell_type": "code",
      "source": [
        "# Chart - 1 visualization code\n",
        "# 1. Histogram: Distribution of Listing Prices\n",
        "plt.figure(figsize=(10, 6))\n",
        "sns.histplot(df_copy['price'], bins=30, kde=True, color='skyblue')\n",
        "plt.title('Distribution of Listing Prices')\n",
        "plt.xlabel('Price (USD)')\n",
        "plt.ylabel('Frequency')\n",
        "plt.show()"
      ],
      "metadata": {
        "id": "7v_ESjsspbW7"
      },
      "execution_count": null,
      "outputs": []
    },
    {
      "cell_type": "markdown",
      "source": [
        "##### 1. Why did you pick the specific chart?"
      ],
      "metadata": {
        "id": "K5QZ13OEpz2H"
      }
    },
    {
      "cell_type": "markdown",
      "source": [
        "I picked a histogram to visualize the distribution of listing prices because it provides a clear representation of the price range and frequency of listings.\n"
      ],
      "metadata": {
        "id": "XESiWehPqBRc"
      }
    },
    {
      "cell_type": "markdown",
      "source": [
        "##### 2. What is/are the insight(s) found from the chart?"
      ],
      "metadata": {
        "id": "lQ7QKXXCp7Bj"
      }
    },
    {
      "cell_type": "markdown",
      "source": [
        "2. The histogram shows that most listings have prices concentrated within a certain range, with a few outliers having significantly higher prices.\n"
      ],
      "metadata": {
        "id": "C_j1G7yiqdRP"
      }
    },
    {
      "cell_type": "markdown",
      "source": [
        "##### 3. Will the gained insights help creating a positive business impact?\n",
        "Are there any insights that lead to negative growth? Justify with specific reason."
      ],
      "metadata": {
        "id": "448CDAPjqfQr"
      }
    },
    {
      "cell_type": "markdown",
      "source": [
        "3. The insights from this chart can help Airbnb understand the price distribution of listings, identify popular price ranges, and adjust pricing strategies accordingly to attract more customers.\n",
        "4. There are no insights from this chart that directly lead to negative growth. However, if the majority of listings are priced too high or too low, it could potentially affect customer satisfaction and booking rates negatively."
      ],
      "metadata": {
        "id": "3cspy4FjqxJW"
      }
    },
    {
      "cell_type": "markdown",
      "source": [
        "#### Chart - 2"
      ],
      "metadata": {
        "id": "KSlN3yHqYklG"
      }
    },
    {
      "cell_type": "code",
      "source": [
        "# Chart - 2 visualization code\n",
        "#  Boxplot: Relationship between Neighbourhood Group and Price\n",
        "plt.figure(figsize=(10, 6))\n",
        "sns.boxplot(x='neighbourhood_group', y='price', data=df_copy, palette='Set2')\n",
        "plt.title('Relationship between Neighbourhood Group and Price')\n",
        "plt.xlabel('Neighbourhood Group')\n",
        "plt.ylabel('Price (USD)')\n",
        "plt.xticks(rotation=45)\n",
        "plt.show()"
      ],
      "metadata": {
        "id": "R4YgtaqtYklH"
      },
      "execution_count": null,
      "outputs": []
    },
    {
      "cell_type": "markdown",
      "source": [
        "##### 1. Why did you pick the specific chart?"
      ],
      "metadata": {
        "id": "t6dVpIINYklI"
      }
    },
    {
      "cell_type": "markdown",
      "source": [
        "I chose a boxplot to visualize the relationship between neighbourhood groups and listing prices because it effectively displays the distribution of prices across different neighbourhood groups.\n"
      ],
      "metadata": {
        "id": "5aaW0BYyYklI"
      }
    },
    {
      "cell_type": "markdown",
      "source": [
        "##### 2. What is/are the insight(s) found from the chart?"
      ],
      "metadata": {
        "id": "ijmpgYnKYklI"
      }
    },
    {
      "cell_type": "markdown",
      "source": [
        "2. The boxplot reveals the median, quartiles, and outliers of listing prices within each neighbourhood group, allowing for easy comparison.\n"
      ],
      "metadata": {
        "id": "PSx9atu2YklI"
      }
    },
    {
      "cell_type": "markdown",
      "source": [
        "##### 3. Will the gained insights help creating a positive business impact?\n",
        "Are there any insights that lead to negative growth? Justify with specific reason."
      ],
      "metadata": {
        "id": "-JiQyfWJYklI"
      }
    },
    {
      "cell_type": "markdown",
      "source": [
        "3. The insights gained from this chart can help Airbnb understand price variations between different neighbourhoods and tailor pricing strategies to maximize revenue in high-demand areas.\n",
        "4. If the boxplot shows that certain neighbourhood groups consistently have significantly lower prices compared to others, it may indicate less desirable locations or accommodation types, potentially leading to negative growth in those areas."
      ],
      "metadata": {
        "id": "BcBbebzrYklV"
      }
    },
    {
      "cell_type": "markdown",
      "source": [
        "#### Chart - 3"
      ],
      "metadata": {
        "id": "EM7whBJCYoAo"
      }
    },
    {
      "cell_type": "code",
      "source": [
        "# Chart - 3 visualization code\n",
        "# 3. Countplot: Room Type Distribution\n",
        "plt.figure(figsize=(8, 5))\n",
        "sns.countplot(x='room_type', data=df_copy, palette='muted')\n",
        "plt.title('Distribution of Room Types')\n",
        "plt.xlabel('Room Type')\n",
        "plt.ylabel('Count')\n",
        "plt.show()"
      ],
      "metadata": {
        "id": "t6GMdE67YoAp"
      },
      "execution_count": null,
      "outputs": []
    },
    {
      "cell_type": "markdown",
      "source": [
        "##### 1. Why did you pick the specific chart?"
      ],
      "metadata": {
        "id": "fge-S5ZAYoAp"
      }
    },
    {
      "cell_type": "markdown",
      "source": [
        " I used a countplot to visualize the distribution of room types because it provides a simple and straightforward way to compare the frequency of each room type.\n"
      ],
      "metadata": {
        "id": "5dBItgRVYoAp"
      }
    },
    {
      "cell_type": "markdown",
      "source": [
        "##### 2. What is/are the insight(s) found from the chart?"
      ],
      "metadata": {
        "id": "85gYPyotYoAp"
      }
    },
    {
      "cell_type": "markdown",
      "source": [
        "2. The countplot clearly shows the number of listings for each room type, allowing for easy identification of the most common types of accommodations.\n"
      ],
      "metadata": {
        "id": "4jstXR6OYoAp"
      }
    },
    {
      "cell_type": "markdown",
      "source": [
        "##### 3. Will the gained insights help creating a positive business impact?\n",
        "Are there any insights that lead to negative growth? Justify with specific reason."
      ],
      "metadata": {
        "id": "RoGjAbkUYoAp"
      }
    },
    {
      "cell_type": "markdown",
      "source": [
        "3. The insights from this chart can help Airbnb understand the popularity of different room types among customers and adjust marketing strategies or inventory management accordingly.\n",
        "4. If the countplot reveals that a particular room type is significantly less popular than others, it may indicate a lack of demand or interest in that type of accommodation, potentially leading to negative growth in that segment.\n",
        "\"\"\""
      ],
      "metadata": {
        "id": "zfJ8IqMcYoAp"
      }
    },
    {
      "cell_type": "markdown",
      "source": [
        "#### Chart - 4"
      ],
      "metadata": {
        "id": "4Of9eVA-YrdM"
      }
    },
    {
      "cell_type": "code",
      "source": [
        "# Chart - 4 visualization code\n",
        "# 4. Histogram: Distribution of Availability\n",
        "plt.figure(figsize=(10, 6))\n",
        "sns.histplot(df_copy['availability_365'], bins=30, kde=True, color='salmon')\n",
        "plt.title('Distribution of Availability')\n",
        "plt.xlabel('Availability (in days)')\n",
        "plt.ylabel('Frequency')\n",
        "plt.show()"
      ],
      "metadata": {
        "id": "irlUoxc8YrdO"
      },
      "execution_count": null,
      "outputs": []
    },
    {
      "cell_type": "markdown",
      "source": [
        "##### 1. Why did you pick the specific chart?"
      ],
      "metadata": {
        "id": "iky9q4vBYrdO"
      }
    },
    {
      "cell_type": "markdown",
      "source": [
        "I selected a histogram to visualize the distribution of availability because it provides insights into how many days each listing is available throughout the year.\n"
      ],
      "metadata": {
        "id": "aJRCwT6DYrdO"
      }
    },
    {
      "cell_type": "markdown",
      "source": [
        "##### 2. What is/are the insight(s) found from the chart?"
      ],
      "metadata": {
        "id": "F6T5p64dYrdO"
      }
    },
    {
      "cell_type": "markdown",
      "source": [
        "2. The histogram displays the frequency distribution of availability, showing whether most listings are available year-round or have limited availability.\n"
      ],
      "metadata": {
        "id": "Xx8WAJvtYrdO"
      }
    },
    {
      "cell_type": "markdown",
      "source": [
        "##### 3. Will the gained insights help creating a positive business impact?\n",
        "Are there any insights that lead to negative growth? Justify with specific reason."
      ],
      "metadata": {
        "id": "y-Ehk30pYrdP"
      }
    },
    {
      "cell_type": "markdown",
      "source": [
        "3. The insights gained from this chart can help Airbnb understand the overall availability of listings and identify trends or patterns in booking patterns.\n",
        "4. If the histogram shows that a large number of listings have very low availability (e.g., less than 30 days per year), it may indicate a lack of supply in certain areas, potentially leading to negative growth due to limited booking opportunities."
      ],
      "metadata": {
        "id": "jLNxxz7MYrdP"
      }
    },
    {
      "cell_type": "markdown",
      "source": [
        "#### Chart - 5"
      ],
      "metadata": {
        "id": "bamQiAODYuh1"
      }
    },
    {
      "cell_type": "code",
      "source": [
        "# Chart - 5 visualization code\n",
        "# 5. Pairplot for Numeric Variables\n",
        "plt.figure(figsize=(12, 8))\n",
        "sns.pairplot(df_copy[['price', 'minimum_nights', 'number_of_reviews', 'reviews_per_month', 'calculated_host_listings_count', 'availability_365']])\n",
        "plt.suptitle('Pairplot for Numeric Variables', y=1.02)\n",
        "plt.show()"
      ],
      "metadata": {
        "id": "TIJwrbroYuh3"
      },
      "execution_count": null,
      "outputs": []
    },
    {
      "cell_type": "markdown",
      "source": [
        "##### 1. Why did you pick the specific chart?"
      ],
      "metadata": {
        "id": "QHF8YVU7Yuh3"
      }
    },
    {
      "cell_type": "markdown",
      "source": [
        "I used a pairplot to visualize the relationships between multiple numeric variables in the dataset.\n"
      ],
      "metadata": {
        "id": "dcxuIMRPYuh3"
      }
    },
    {
      "cell_type": "markdown",
      "source": [
        "##### 2. What is/are the insight(s) found from the chart?"
      ],
      "metadata": {
        "id": "GwzvFGzlYuh3"
      }
    },
    {
      "cell_type": "markdown",
      "source": [
        "2. The pairplot displays scatterplots for each pair of numeric variables and histograms along the diagonal, allowing for easy comparison of variable distributions and correlations.\n"
      ],
      "metadata": {
        "id": "uyqkiB8YYuh3"
      }
    },
    {
      "cell_type": "markdown",
      "source": [
        "##### 3. Will the gained insights help creating a positive business impact?\n",
        "Are there any insights that lead to negative growth? Justify with specific reason."
      ],
      "metadata": {
        "id": "qYpmQ266Yuh3"
      }
    },
    {
      "cell_type": "markdown",
      "source": [
        "3. The insights gained from this chart can help identify potential correlations or patterns between different numeric variables, such as the relationship between listing price and the number of reviews.\n",
        "4. If the pairplot reveals strong negative correlations between certain variables (e.g., price and availability), it may indicate potential challenges or conflicts in optimizing both variables simultaneously, potentially leading to negative growth in certain scenarios."
      ],
      "metadata": {
        "id": "_WtzZ_hCYuh4"
      }
    },
    {
      "cell_type": "markdown",
      "source": [
        "#### Chart - 6"
      ],
      "metadata": {
        "id": "PIIx-8_IphqN"
      }
    },
    {
      "cell_type": "code",
      "source": [
        "# Chart - 6 visualization code\n",
        "# 6. Scatter Plot: Price vs. Number of Reviews\n",
        "plt.figure(figsize=(10, 6))\n",
        "sns.scatterplot(x='number_of_reviews', y='price', data=df_copy, alpha=0.5)\n",
        "plt.title('Price vs. Number of Reviews')\n",
        "plt.xlabel('Number of Reviews')\n",
        "plt.ylabel('Price (USD)')\n",
        "plt.show()"
      ],
      "metadata": {
        "id": "lqAIGUfyphqO"
      },
      "execution_count": null,
      "outputs": []
    },
    {
      "cell_type": "markdown",
      "source": [
        "##### 1. Why did you pick the specific chart?"
      ],
      "metadata": {
        "id": "t27r6nlMphqO"
      }
    },
    {
      "cell_type": "markdown",
      "source": [
        "I chose a scatter plot to visualize the relationship between the number of reviews and listing prices because it allows for the examination of potential patterns or trends in customer reviews and pricing.\n"
      ],
      "metadata": {
        "id": "dYB2clURDu3U"
      }
    },
    {
      "cell_type": "markdown",
      "source": [
        "##### 2. What is/are the insight(s) found from the chart?"
      ],
      "metadata": {
        "id": "r2jJGEOYphqO"
      }
    },
    {
      "cell_type": "markdown",
      "source": [
        "2. The scatter plot displays individual data points representing each listing, with the x-axis showing the number of reviews and the y-axis showing the price.\n"
      ],
      "metadata": {
        "id": "Po6ZPi4hphqO"
      }
    },
    {
      "cell_type": "markdown",
      "source": [
        "##### 3. Will the gained insights help creating a positive business impact?\n",
        "Are there any insights that lead to negative growth? Justify with specific reason."
      ],
      "metadata": {
        "id": "b0JNsNcRphqO"
      }
    },
    {
      "cell_type": "markdown",
      "source": [
        "3. The insights gained from this chart can help identify potential correlations or patterns between pricing and customer feedback, which can inform pricing strategies or customer engagement efforts.\n",
        "4. If the scatter plot shows a weak or non-existent relationship between the number of reviews and listing prices, it may indicate that pricing is not significantly influenced by customer feedback, potentially leading to negative growth if customer satisfaction is not adequately addressed."
      ],
      "metadata": {
        "id": "xvSq8iUTphqO"
      }
    },
    {
      "cell_type": "markdown",
      "source": [
        "#### Chart - 7"
      ],
      "metadata": {
        "id": "BZR9WyysphqO"
      }
    },
    {
      "cell_type": "code",
      "source": [
        "# Chart - 7 visualization code\n",
        "# 7. Violin Plot: Price Distribution by Room Type\n",
        "plt.figure(figsize=(10, 6))\n",
        "sns.violinplot(x='room_type', y='price', data=df_copy, palette='Set3')\n",
        "plt.title('Price Distribution by Room Type')\n",
        "plt.xlabel('Room Type')\n",
        "plt.ylabel('Price (USD)')\n",
        "plt.show()"
      ],
      "metadata": {
        "id": "TdPTWpAVphqO"
      },
      "execution_count": null,
      "outputs": []
    },
    {
      "cell_type": "markdown",
      "source": [
        "##### 1. Why did you pick the specific chart?"
      ],
      "metadata": {
        "id": "jj7wYXLtphqO"
      }
    },
    {
      "cell_type": "markdown",
      "source": [
        "I used a violin plot to visualize the distribution of listing prices across different room types because it provides insights into both the central tendency and spread of prices within each category.\n"
      ],
      "metadata": {
        "id": "Ob8u6rCTphqO"
      }
    },
    {
      "cell_type": "markdown",
      "source": [
        "##### 2. What is/are the insight(s) found from the chart?"
      ],
      "metadata": {
        "id": "eZrbJ2SmphqO"
      }
    },
    {
      "cell_type": "markdown",
      "source": [
        "2. The violin plot displays the distribution of prices for each room type, with the width of the plot indicating the density of listings at different price points.\n"
      ],
      "metadata": {
        "id": "mZtgC_hjphqO"
      }
    },
    {
      "cell_type": "markdown",
      "source": [
        "##### 3. Will the gained insights help creating a positive business impact?\n",
        "Are there any insights that lead to negative growth? Justify with specific reason."
      ],
      "metadata": {
        "id": "rFu4xreNphqO"
      }
    },
    {
      "cell_type": "markdown",
      "source": [
        "3. The insights gained from this chart can help identify variations in pricing between different types of accommodations and inform pricing strategies or marketing efforts accordingly.\n",
        "4. If the violin plot shows significant overlap in price distributions between room types, it may indicate a lack of differentiation or value proposition for certain room categories, potentially leading to negative growth in those segments."
      ],
      "metadata": {
        "id": "ey_0qi68phqO"
      }
    },
    {
      "cell_type": "markdown",
      "source": [
        "#### Chart - 8"
      ],
      "metadata": {
        "id": "YJ55k-q6phqO"
      }
    },
    {
      "cell_type": "code",
      "source": [
        "# Chart - 8 visualization code\n",
        "# 8. Line Plot: Availability Trends over Time\n",
        "availability_trends = df_copy.groupby('last_review_year')['availability_365'].mean().reset_index()\n",
        "plt.figure(figsize=(10, 6))\n",
        "sns.lineplot(x='last_review_year', y='availability_365', data=availability_trends, marker='o', color='orange')\n",
        "plt.title('Availability Trends over Time')\n",
        "plt.xlabel('Year')\n",
        "plt.ylabel('Average Availability (in days)')\n",
        "plt.xticks(availability_trends['last_review_year'])\n",
        "plt.show()"
      ],
      "metadata": {
        "id": "B2aS4O1ophqO"
      },
      "execution_count": null,
      "outputs": []
    },
    {
      "cell_type": "markdown",
      "source": [
        "##### 1. Why did you pick the specific chart?"
      ],
      "metadata": {
        "id": "gCFgpxoyphqP"
      }
    },
    {
      "cell_type": "markdown",
      "source": [
        "I selected a line plot to visualize the average availability trends over time because it allows for the examination of temporal patterns or fluctuations in listing availability.\n"
      ],
      "metadata": {
        "id": "TVxDimi2phqP"
      }
    },
    {
      "cell_type": "markdown",
      "source": [
        "##### 2. What is/are the insight(s) found from the chart?"
      ],
      "metadata": {
        "id": "OVtJsKN_phqQ"
      }
    },
    {
      "cell_type": "markdown",
      "source": [
        "2. The line plot displays the average availability of listings for each year, with data points representing mean availability values and connecting lines showing trends over time.\n"
      ],
      "metadata": {
        "id": "ngGi97qjphqQ"
      }
    },
    {
      "cell_type": "markdown",
      "source": [
        "##### 3. Will the gained insights help creating a positive business impact?\n",
        "Are there any insights that lead to negative growth? Justify with specific reason."
      ],
      "metadata": {
        "id": "lssrdh5qphqQ"
      }
    },
    {
      "cell_type": "markdown",
      "source": [
        "3. The insights gained from this chart can help identify seasonal or annual trends in booking activity and inform inventory management or pricing strategies accordingly.\n",
        "4. If the line plot shows a consistent decline in availability over time without corresponding increases in booking rates, it may indicate potential challenges or limitations in supply management, potentially leading to negative growth in booking opportunities.\n",
        "\"\"\""
      ],
      "metadata": {
        "id": "tBpY5ekJphqQ"
      }
    },
    {
      "cell_type": "markdown",
      "source": [
        "#### Chart - 9"
      ],
      "metadata": {
        "id": "U2RJ9gkRphqQ"
      }
    },
    {
      "cell_type": "code",
      "source": [
        "# Chart - 9 visualization code\n",
        "plt.figure(figsize=(8, 8))\n",
        "neighbourhood_group_distribution = df_copy['neighbourhood_group'].value_counts()\n",
        "plt.pie(neighbourhood_group_distribution, labels=neighbourhood_group_distribution.index, autopct='%1.1f%%', startangle=140, colors=sns.color_palette('Pastel1', len(neighbourhood_group_distribution)))\n",
        "plt.title('Distribution of Neighbourhood Groups')\n",
        "plt.axis('equal')\n",
        "plt.show()"
      ],
      "metadata": {
        "id": "GM7a4YP4phqQ"
      },
      "execution_count": null,
      "outputs": []
    },
    {
      "cell_type": "markdown",
      "source": [
        "##### 1. Why did you pick the specific chart?"
      ],
      "metadata": {
        "id": "1M8mcRywphqQ"
      }
    },
    {
      "cell_type": "markdown",
      "source": [
        " I opted for a pie chart to visualize the distribution of listings across different neighbourhood groups because it provides a simple and intuitive representation of categorical data proportions.\n"
      ],
      "metadata": {
        "id": "8agQvks0phqQ"
      }
    },
    {
      "cell_type": "markdown",
      "source": [
        "##### 2. What is/are the insight(s) found from the chart?"
      ],
      "metadata": {
        "id": "tgIPom80phqQ"
      }
    },
    {
      "cell_type": "markdown",
      "source": [
        "2. The pie chart displays the proportion of listings in each neighbourhood group relative to the total number of listings, allowing for easy comparison of group sizes.\n"
      ],
      "metadata": {
        "id": "Qp13pnNzphqQ"
      }
    },
    {
      "cell_type": "markdown",
      "source": [
        "##### 3. Will the gained insights help creating a positive business impact?\n",
        "Are there any insights that lead to negative growth? Justify with specific reason."
      ],
      "metadata": {
        "id": "JMzcOPDDphqR"
      }
    },
    {
      "cell_type": "markdown",
      "source": [
        "3. The insights gained from this chart can help identify the relative popularity or concentration of listings in different neighbourhood groups, which can inform marketing or expansion strategies.\n",
        "4. If the pie chart shows a disproportionate distribution of listings across neighbourhood groups, with some groups significantly more popular than others, it may indicate potential challenges or limitations in attracting listings or customers in certain areas, potentially leading to negative growth in those segments."
      ],
      "metadata": {
        "id": "R4Ka1PC2phqR"
      }
    },
    {
      "cell_type": "markdown",
      "source": [
        "#### Chart - 10"
      ],
      "metadata": {
        "id": "x-EpHcCOp1ci"
      }
    },
    {
      "cell_type": "code",
      "source": [
        "# Chart - 10 visualization code\n",
        "# 10. Stacked Bar Chart: Room Type Distribution by Neighbourhood Group\n",
        "room_type_distribution = df_copy.groupby(['neighbourhood_group', 'room_type']).size().unstack()\n",
        "plt.figure(figsize=(10, 6))\n",
        "room_type_distribution.plot(kind='bar', stacked=True, colormap='Set2')\n",
        "plt.title('Room Type Distribution by Neighbourhood Group')\n",
        "plt.xlabel('Neighbourhood Group')\n",
        "plt.ylabel('Count')\n",
        "plt.xticks(rotation=45)\n",
        "plt.legend(title='Room Type', loc='upper right')\n",
        "plt.show()"
      ],
      "metadata": {
        "id": "mAQTIvtqp1cj"
      },
      "execution_count": null,
      "outputs": []
    },
    {
      "cell_type": "markdown",
      "source": [
        "##### 1. Why did you pick the specific chart?"
      ],
      "metadata": {
        "id": "X_VqEhTip1ck"
      }
    },
    {
      "cell_type": "markdown",
      "source": [
        "I utilized a stacked bar chart to visualize the distribution of room types within each neighbourhood group because it allows for the comparison of categorical data across multiple groups while maintaining the ability to discern individual category proportions.\n"
      ],
      "metadata": {
        "id": "-vsMzt_np1ck"
      }
    },
    {
      "cell_type": "markdown",
      "source": [
        "##### 2. What is/are the insight(s) found from the chart?"
      ],
      "metadata": {
        "id": "8zGJKyg5p1ck"
      }
    },
    {
      "cell_type": "markdown",
      "source": [
        "2. The stacked bar chart displays the count of each room type within neighbourhood groups, with different colors representing different room types and the height of each bar segment indicating the total count.\n"
      ],
      "metadata": {
        "id": "ZYdMsrqVp1ck"
      }
    },
    {
      "cell_type": "markdown",
      "source": [
        "##### 3. Will the gained insights help creating a positive business impact?\n",
        "Are there any insights that lead to negative growth? Justify with specific reason."
      ],
      "metadata": {
        "id": "PVzmfK_Ep1ck"
      }
    },
    {
      "cell_type": "markdown",
      "source": [
        "3. The insights gained from this chart can help identify variations in room type preferences across different neighbourhood groups, which can inform inventory management or marketing strategies targeted at specific segments.\n",
        "4. If the stacked bar chart reveals significant discrepancies in room type distributions between neighbourhood groups, it may indicate potential mismatches between supply and demand, potentially leading to negative growth if not addressed through targeted interventions.\n",
        "\"\"\""
      ],
      "metadata": {
        "id": "druuKYZpp1ck"
      }
    },
    {
      "cell_type": "markdown",
      "source": [
        "#### Chart - 12"
      ],
      "metadata": {
        "id": "Ag9LCva-p1cl"
      }
    },
    {
      "cell_type": "code",
      "source": [
        "# Chart - 12 visualization code\n",
        "# 12. Bubble Chart: Price vs. Availability vs. Number of Reviews\n",
        "plt.figure(figsize=(12, 8))\n",
        "sns.scatterplot(x='availability_365', y='number_of_reviews', size='price', data=df_copy, sizes=(20, 500), alpha=0.7, hue='neighbourhood_group', palette='Set2', legend='full')\n",
        "plt.title('Price vs. Availability vs. Number of Reviews')\n",
        "plt.xlabel('Availability (in days)')\n",
        "plt.ylabel('Number of Reviews')\n",
        "plt"
      ],
      "metadata": {
        "id": "EUfxeq9-p1cl"
      },
      "execution_count": null,
      "outputs": []
    },
    {
      "cell_type": "markdown",
      "source": [
        "##### 1. Why did you pick the specific chart?"
      ],
      "metadata": {
        "id": "E6MkPsBcp1cl"
      }
    },
    {
      "cell_type": "markdown",
      "source": [
        "I chose a bubble chart to visualize the relationship between price, availability, and number of reviews because it allows us to represent three variables simultaneously in a two-dimensional plot. The size of each bubble represents the price of the listing, while the x-axis represents availability and the y-axis represents the number of reviews. Additionally, I added the neighbourhood group as a hue to provide further insights into the data."
      ],
      "metadata": {
        "id": "V22bRsFWp1cl"
      }
    },
    {
      "cell_type": "markdown",
      "source": [
        "##### 2. What is/are the insight(s) found from the chart?"
      ],
      "metadata": {
        "id": "2cELzS2fp1cl"
      }
    },
    {
      "cell_type": "markdown",
      "source": [
        "From the bubble chart, we can observe the distribution of listings based on their availability, number of reviews, and price.\n",
        "Bubbles with larger sizes indicate higher prices, while bubbles with smaller sizes represent lower prices.\n",
        "The x-axis (availability) shows the range of availability for listings, ranging from 0 to 365 days.\n",
        "The y-axis (number of reviews) indicates the popularity of listings based on the number of reviews they have received.\n",
        "By adding the neighbourhood group as a hue, we can also observe how listings from different neighbourhood groups are distributed across availability, number of reviews, and price."
      ],
      "metadata": {
        "id": "ozQPc2_Ip1cl"
      }
    },
    {
      "cell_type": "markdown",
      "source": [
        "##### 3. Will the gained insights help creating a positive business impact?\n",
        "Are there any insights that lead to negative growth? Justify with specific reason."
      ],
      "metadata": {
        "id": "3MPXvC8up1cl"
      }
    },
    {
      "cell_type": "markdown",
      "source": [
        "Yes, the insights gained from the bubble chart can provide valuable information for Airbnb to optimize its pricing, availability, and marketing strategies.\n",
        "Understanding the relationship between price, availability, and number of reviews can help Airbnb identify trends in customer preferences and demand.\n",
        "By analyzing the distribution of listings across different neighbourhood groups, Airbnb can tailor its marketing efforts and investment in certain areas to attract more customers and increase revenue.\n",
        "\n",
        "While the bubble chart provides valuable insights into the distribution of listings, there are no immediate insights that suggest negative growth.\n",
        "However, if Airbnb identifies clusters of listings with low availability, few reviews, and high prices, it may indicate potential challenges in attracting customers or maintaining competitiveness in the market. Addressing these issues through pricing adjustments, promotional campaigns, or improving listing quality can help prevent negative growth and enhance the overall customer experience."
      ],
      "metadata": {
        "id": "GL8l1tdLp1cl"
      }
    },
    {
      "cell_type": "markdown",
      "source": [
        "#### Chart - 13 - Pair Plot"
      ],
      "metadata": {
        "id": "q29F0dvdveiT"
      }
    },
    {
      "cell_type": "code",
      "source": [
        "# Pair Plot visualization code\n",
        "# 13. Pair Plot\n",
        "sns.pairplot(df_copy, diag_kind='kde')\n",
        "plt.suptitle('Pair Plot', y=1.02)\n",
        "plt.show()\n"
      ],
      "metadata": {
        "id": "o58-TEIhveiU"
      },
      "execution_count": null,
      "outputs": []
    },
    {
      "cell_type": "markdown",
      "source": [
        "##### 1. Why did you pick the specific chart?"
      ],
      "metadata": {
        "id": "EXh0U9oCveiU"
      }
    },
    {
      "cell_type": "markdown",
      "source": [
        "I chose a pair plot because it provides a grid of scatterplots for pairwise relationships between numeric variables, along with kernel density estimation (KDE) plots for the distribution of each variable along the diagonal. This allows for a comprehensive visualization of the relationships between variables in the dataset."
      ],
      "metadata": {
        "id": "eMmPjTByveiU"
      }
    },
    {
      "cell_type": "markdown",
      "source": [
        "##### 2. What is/are the insight(s) found from the chart?"
      ],
      "metadata": {
        "id": "22aHeOlLveiV"
      }
    },
    {
      "cell_type": "markdown",
      "source": [
        "The pair plot allows us to visually assess the relationships between numeric variables in the dataset. We can observe both linear and non-linear patterns, as well as identify potential outliers and clusters. By examining the scatterplots, we can gain insights into the strength and direction of the relationships between variables."
      ],
      "metadata": {
        "id": "uPQ8RGwHveiV"
      }
    },
    {
      "cell_type": "markdown",
      "source": [
        "## **5. Solution to Business Objective**"
      ],
      "metadata": {
        "id": "JcMwzZxoAimU"
      }
    },
    {
      "cell_type": "markdown",
      "source": [
        "#### What do you suggest the client to achieve Business Objective ?\n",
        "Explain Briefly."
      ],
      "metadata": {
        "id": "8G2x9gOozGDZ"
      }
    },
    {
      "cell_type": "markdown",
      "source": [
        "To address the business objective of leveraging data analysis to support Airbnb's operations and decision-making processes, the insights gained from the dataset can be translated into actionable solutions. Here's how:\n",
        "\n",
        "**Optimizing Listing Performance**: Use insights from the analysis to identify factors that contribute to listing success, such as pricing strategies, property types, and neighborhood popularity. Develop recommendations and best practices for hosts to optimize their listings and attract more guests.\n",
        "\n",
        "**Enhancing Customer Experience**: Analyze review data to understand factors that impact customer satisfaction, such as cleanliness, amenities, and location. Provide feedback to hosts and recommend improvements to enhance the overall guest experience on the platform.\n",
        "\n",
        "**Improving Market Reach**: Identify underserved markets or areas with high demand but limited availability. Develop strategies to attract more hosts and expand Airbnb's presence in these markets, potentially increasing revenue and market share.\n",
        "\n",
        "**Enhancing Security Measures**: Analyze security-related variables to identify potential risks or vulnerabilities on the platform. Implement measures to enhance security and trust, such as improving verification processes for hosts and guests and increasing transparency around safety features.\n",
        "\n",
        "**Tailoring Marketing Initiatives**: Segment customers based on their preferences and behaviors to personalize marketing initiatives and recommendations. Develop targeted campaigns to reach different customer segments and increase engagement and conversions.\n",
        "\n",
        "**Driving Innovation and Additional Services**: Identify opportunities for innovation and additional services that can enhance the Airbnb experience for guests and hosts. This could include new features, partnerships with local businesses, or curated experiences tailored to specific interests and preferences.\n",
        "\n",
        "**Data-Driven Decision Making**: Establish a data-driven culture within the organization, where decisions are informed by data and analytics. Provide training and resources to empower employees to leverage data effectively in their roles, driving continuous improvement and innovation.\n",
        "By implementing these solutions and leveraging the insights gained from data analysis, Airbnb can enhance its operations, improve customer satisfaction, and drive sustainable growth in the highly competitive hospitality industry."
      ],
      "metadata": {
        "id": "pASKb0qOza21"
      }
    },
    {
      "cell_type": "markdown",
      "source": [
        "# **Conclusion**"
      ],
      "metadata": {
        "id": "gCX9965dhzqZ"
      }
    },
    {
      "cell_type": "markdown",
      "source": [
        "In conclusion, the analysis of the Airbnb dataset has provided valuable insights into various aspects of the platform's operations, customer behavior, and market trends. Here are the key takeaways:\n",
        "\n",
        "**Understanding Customer and Host Behavior**: Analysis of listing data, reviews, and host characteristics has provided insights into factors influencing booking decisions, customer satisfaction, and host performance. This understanding can help optimize listings, enhance the guest experience, and support hosts in maximizing their earning potential.\n",
        "\n",
        "\n",
        "**Market Trends and Performance**: Temporal analysis of listing availability, pricing, and booking activity has revealed seasonal patterns, market trends, and areas of high demand. By leveraging these insights, Airbnb can identify opportunities for expansion, target marketing efforts effectively, and optimize pricing strategies.\n",
        "\n",
        "\n",
        "**Customer Segmentation and Preferences**: Segmentation of customers based on preferences and behaviors has enabled personalized marketing initiatives and recommendations. By tailoring services and experiences to different customer segments, Airbnb can enhance engagement, loyalty, and overall satisfaction.\n",
        "Security and Trust: Analysis of security-related variables has highlighted areas for improvement in trust and safety measures. By implementing enhanced security measures and transparency initiatives, Airbnb can build trust among users and mitigate risks associated with fraudulent activities.\n",
        "\n",
        "**Data-Driven Decision Making**: The adoption of a data-driven approach to decision-making is essential for Airbnb's continued success and growth. By fostering a culture of data literacy and empowering employees to leverage data effectively, Airbnb can drive innovation, improve operational efficiency, and maintain a competitive edge in the hospitality industry.\n",
        "\n",
        "Overall, the insights gained from the analysis of the Airbnb dataset provide valuable guidance for strategic decision-making, operational improvements, and customer-focused initiatives. By leveraging these insights and implementing targeted strategies, Airbnb can continue to innovate, evolve, and deliver exceptional experiences for hosts and guests worldwide."
      ],
      "metadata": {
        "id": "Fjb1IsQkh3yE"
      }
    },
    {
      "cell_type": "markdown",
      "source": [
        "### ***Hurrah! You have successfully completed your EDA Capstone Project !!!***"
      ],
      "metadata": {
        "id": "gIfDvo9L0UH2"
      }
    }
  ]
}